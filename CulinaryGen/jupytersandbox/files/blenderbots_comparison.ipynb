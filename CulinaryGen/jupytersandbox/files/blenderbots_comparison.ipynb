{
 "cells": [
  {
   "cell_type": "code",
   "execution_count": 1,
   "id": "dab339d5",
   "metadata": {},
   "outputs": [
    {
     "name": "stderr",
     "output_type": "stream",
     "text": [
      "2024-06-19 14:59:04.434810: I tensorflow/core/util/port.cc:113] oneDNN custom operations are on. You may see slightly different numerical results due to floating-point round-off errors from different computation orders. To turn them off, set the environment variable `TF_ENABLE_ONEDNN_OPTS=0`.\n",
      "2024-06-19 14:59:04.513050: I tensorflow/core/platform/cpu_feature_guard.cc:210] This TensorFlow binary is optimized to use available CPU instructions in performance-critical operations.\n",
      "To enable the following instructions: AVX2 AVX_VNNI FMA, in other operations, rebuild TensorFlow with the appropriate compiler flags.\n",
      "2024-06-19 14:59:06.097726: W tensorflow/compiler/tf2tensorrt/utils/py_utils.cc:38] TF-TRT Warning: Could not find TensorRT\n"
     ]
    }
   ],
   "source": [
    "from transformers.utils import logging\n",
    "from transformers import Conversation\n",
    "logging.set_verbosity_error()"
   ]
  },
  {
   "cell_type": "code",
   "execution_count": 2,
   "id": "94e37e63",
   "metadata": {},
   "outputs": [],
   "source": [
    "from transformers import pipeline"
   ]
  },
  {
   "cell_type": "code",
   "execution_count": 3,
   "id": "56b076fb",
   "metadata": {},
   "outputs": [
    {
     "name": "stderr",
     "output_type": "stream",
     "text": [
      "/opt/conda/lib/python3.11/site-packages/huggingface_hub/file_download.py:1132: FutureWarning: `resume_download` is deprecated and will be removed in version 1.0.0. Downloads always resume when possible. If you want to force a new download, use `force_download=True`.\n",
      "  warnings.warn(\n"
     ]
    },
    {
     "data": {
      "application/vnd.jupyter.widget-view+json": {
       "model_id": "07d818d5bbb14b7dac68263aea804ce3",
       "version_major": 2,
       "version_minor": 0
      },
      "text/plain": [
       "pytorch_model.bin:   0%|          | 0.00/730M [00:00<?, ?B/s]"
      ]
     },
     "metadata": {},
     "output_type": "display_data"
    },
    {
     "data": {
      "application/vnd.jupyter.widget-view+json": {
       "model_id": "0a4bde57c62346b5bc97ee357dfc3bba",
       "version_major": 2,
       "version_minor": 0
      },
      "text/plain": [
       "pytorch_model.bin:   0%|          | 0.00/350M [00:00<?, ?B/s]"
      ]
     },
     "metadata": {},
     "output_type": "display_data"
    }
   ],
   "source": [
    "chatbot_400mdistill = pipeline(task=\"conversational\",model=\"facebook/blenderbot-400M-distill\")\n",
    "chatbot_small90m = pipeline(\"conversational\", model=\"facebook/blenderbot_small-90M\")"
   ]
  },
  {
   "cell_type": "markdown",
   "id": "325f90f7",
   "metadata": {},
   "source": [
    "# One Command"
   ]
  },
  {
   "cell_type": "code",
   "execution_count": 4,
   "id": "9832ae9e-a27c-4dca-801f-aa3b11f086fd",
   "metadata": {},
   "outputs": [],
   "source": [
    "def chatting(model, user_message=\"What is your favorite restaurant?\", prompt_2=\"Any other ideas?\", prompt_3=None):\n",
    "    #user_message = user_message\n",
    "    conversation = Conversation(user_message)\n",
    "    conversation = model(conversation)\n",
    "    conversation.add_user_input(prompt_2)\n",
    "    conversation = model(conversation)\n",
    "    #conversation.add_user_input(prompt_3)\n",
    "    #conversation = model(conversation)\n",
    "    print(conversation)"
   ]
  },
  {
   "cell_type": "code",
   "execution_count": 5,
   "id": "66eefc61-efd4-4d3c-aa0b-b0af012408c7",
   "metadata": {},
   "outputs": [
    {
     "name": "stdout",
     "output_type": "stream",
     "text": [
      "Conversation id: ed316bfb-75be-4b66-b4fa-368bfc842bf6\n",
      "user: What is your favorite restaurant?\n",
      "assistant:  I don't really have a favorite, but I do like to go out to eat a lot.\n",
      "user: Any other ideas?\n",
      "assistant:  Well, I like to eat out a lot too.  I really like Thai food.  What about you?\n",
      "\n"
     ]
    }
   ],
   "source": [
    "chatting(model = chatbot_400mdistill, user_message=\"What is your favorite restaurant?\", prompt_2=\"Any other ideas?\")"
   ]
  },
  {
   "cell_type": "code",
   "execution_count": 6,
   "id": "9cdbb647-bde1-4184-a8e7-e2c91be5c124",
   "metadata": {},
   "outputs": [
    {
     "name": "stdout",
     "output_type": "stream",
     "text": [
      "Conversation id: e360ff90-5b52-4085-8521-1b64903b74df\n",
      "user: What is your favorite restaurant?\n",
      "assistant:  I don't really have a favorite, but I do like to go out to eat a lot.\n",
      "user: Any other ideas.\n",
      "assistant:  Well, I like to eat out a lot too, but my favorite is Thai food.\n",
      "\n"
     ]
    }
   ],
   "source": [
    "chatting(model = chatbot_400mdistill, user_message=\"What is your favorite restaurant?\", prompt_2=\"Any other ideas.\")"
   ]
  },
  {
   "cell_type": "code",
   "execution_count": 7,
   "id": "6b338247-0ec5-4950-b20b-2c0779b96b2d",
   "metadata": {},
   "outputs": [
    {
     "name": "stdout",
     "output_type": "stream",
     "text": [
      "Conversation id: 10567fe0-daa9-4248-b67f-3680667a3623\n",
      "user: What is your favorite restaurant?\n",
      "assistant:  I don't really have a favorite, but I do like to go out to eat a lot.\n",
      "user: Any other ideas\n",
      "assistant:  Well, I like to eat out a lot, so I usually go to restaurants that specialize in Italian cuisine.\n",
      "\n"
     ]
    }
   ],
   "source": [
    "chatting(model = chatbot_400mdistill, user_message=\"What is your favorite restaurant?\", prompt_2=\"Any other ideas\")"
   ]
  },
  {
   "cell_type": "code",
   "execution_count": 8,
   "id": "c64b695b-75a2-4374-bbe2-1a08bee92bc9",
   "metadata": {},
   "outputs": [
    {
     "name": "stdout",
     "output_type": "stream",
     "text": [
      "Conversation id: 210ac6d3-8715-4452-a6a3-b91d67daffe0\n",
      "user: What is your favorite restaurant?\n",
      "assistant:  I don't really have a favorite, but I do like to go out to eat a lot.\n",
      "user: Do you have any other ideas?\n",
      "assistant:  Well, I like to try new restaurants. I like trying new things. What about you?\n",
      "\n"
     ]
    }
   ],
   "source": [
    "chatting(model = chatbot_400mdistill, user_message=\"What is your favorite restaurant?\", prompt_2=\"Do you have any other ideas?\")"
   ]
  },
  {
   "cell_type": "code",
   "execution_count": 9,
   "id": "7d25c9c2-088b-4888-8fef-ab0a62ba4375",
   "metadata": {},
   "outputs": [
    {
     "name": "stdout",
     "output_type": "stream",
     "text": [
      "Conversation id: 5b9de804-0467-4842-b98e-e71820ac15ec\n",
      "user: What is your favorite restaurant?\n",
      "assistant:  I don't really have a favorite, but I do like to go out to eat a lot.\n",
      "user: Any other ideas please?\n",
      "assistant:  Well, I really like Italian restaurants. I love the food and the atmosphere.\n",
      "\n"
     ]
    }
   ],
   "source": [
    "chatting(model = chatbot_400mdistill, user_message=\"What is your favorite restaurant?\", prompt_2=\"Any other ideas please?\")"
   ]
  },
  {
   "cell_type": "code",
   "execution_count": null,
   "id": "bc8ac8c3-24c3-4ebd-be78-8b90bfacf9c0",
   "metadata": {},
   "outputs": [],
   "source": []
  },
  {
   "cell_type": "code",
   "execution_count": null,
   "id": "d3f699ad-9743-4301-b46e-9cc4200bdaa1",
   "metadata": {},
   "outputs": [],
   "source": []
  },
  {
   "cell_type": "code",
   "execution_count": null,
   "id": "04a7c3fb-aec0-4ed6-b1df-19a774db8649",
   "metadata": {},
   "outputs": [],
   "source": []
  },
  {
   "cell_type": "code",
   "execution_count": null,
   "id": "43d096cb-8e43-487c-b0b4-1705c72b6cbd",
   "metadata": {},
   "outputs": [],
   "source": []
  },
  {
   "cell_type": "code",
   "execution_count": null,
   "id": "e3a56bfc-b4c6-465a-9721-9ff794b22cd6",
   "metadata": {},
   "outputs": [],
   "source": []
  },
  {
   "cell_type": "markdown",
   "id": "0b09209e",
   "metadata": {},
   "source": [
    "## 400M"
   ]
  },
  {
   "cell_type": "markdown",
   "id": "5e92a0c0-b510-4156-9304-fde553fbead9",
   "metadata": {},
   "source": [
    "#Initial Test"
   ]
  },
  {
   "cell_type": "code",
   "execution_count": 10,
   "id": "f521dbf5",
   "metadata": {},
   "outputs": [
    {
     "name": "stdout",
     "output_type": "stream",
     "text": [
      "Conversation id: 941a3bf5-1e41-4ab7-9438-628e8f377b05\n",
      "user: What is your favorite restaurant?\n",
      "assistant:  I don't really have a favorite, but I do like to go out to eat a lot.\n",
      "user: Any other ideas?\n",
      "assistant:  Well, I like to eat out a lot too.  I really like Thai food.  What about you?\n",
      "\n"
     ]
    }
   ],
   "source": [
    "user_message = \"What is your favorite restaurant?\"\n",
    "conversation = Conversation(user_message)\n",
    "conversation = chatbot_400mdistill(conversation)\n",
    "conversation.add_user_input(\"Any other ideas?\")\n",
    "conversation = chatbot_400mdistill(conversation)\n",
    "print(conversation)"
   ]
  },
  {
   "cell_type": "code",
   "execution_count": 11,
   "id": "c077cfa5-ed35-4444-a6e1-9e97f74d1eca",
   "metadata": {},
   "outputs": [],
   "source": [
    "#Increasing length of Q2"
   ]
  },
  {
   "cell_type": "code",
   "execution_count": 12,
   "id": "1e5b06ca-2a18-4ad3-a463-5764f3f26be5",
   "metadata": {},
   "outputs": [
    {
     "name": "stdout",
     "output_type": "stream",
     "text": [
      "Conversation id: 8594d374-5345-4bbf-b85a-bef96c79a500\n",
      "user: What is your favorite restaurant?\n",
      "assistant:  I don't really have a favorite, but I do like to go out to eat a lot.\n",
      "user: Any other ideas?  Please help.\n",
      "assistant:  Well, I really like Italian food, so I usually go to restaurants that specialize in it.\n",
      "\n"
     ]
    }
   ],
   "source": [
    "user_message = \"What is your favorite restaurant?\"\n",
    "conversation = Conversation(user_message)\n",
    "conversation = chatbot_400mdistill(conversation)\n",
    "conversation.add_user_input(\"Any other ideas?  Please help.\")\n",
    "conversation = chatbot_400mdistill(conversation)\n",
    "print(conversation)"
   ]
  },
  {
   "cell_type": "code",
   "execution_count": 13,
   "id": "1b4cbb5c-c2b3-47fe-87e5-3b4ad2a5a69d",
   "metadata": {},
   "outputs": [],
   "source": [
    "#Getting more specific questions"
   ]
  },
  {
   "cell_type": "code",
   "execution_count": 14,
   "id": "7ce63613-be55-404c-9c96-75330b3e801c",
   "metadata": {},
   "outputs": [
    {
     "ename": "NameError",
     "evalue": "name 'chatting_400m' is not defined",
     "output_type": "error",
     "traceback": [
      "\u001b[0;31m---------------------------------------------------------------------------\u001b[0m",
      "\u001b[0;31mNameError\u001b[0m                                 Traceback (most recent call last)",
      "Cell \u001b[0;32mIn[14], line 1\u001b[0m\n\u001b[0;32m----> 1\u001b[0m \u001b[43mchatting_400m\u001b[49m()\n",
      "\u001b[0;31mNameError\u001b[0m: name 'chatting_400m' is not defined"
     ]
    }
   ],
   "source": [
    "chatting_400m()"
   ]
  },
  {
   "cell_type": "markdown",
   "id": "c759723b",
   "metadata": {},
   "source": [
    "## 90m"
   ]
  },
  {
   "cell_type": "code",
   "execution_count": null,
   "id": "fe0fa278",
   "metadata": {},
   "outputs": [],
   "source": [
    "user_message = \"What is your favorite restaurant?\"\n",
    "conversation = Conversation(user_message)\n",
    "conversation = chatbot_small90m(conversation)\n",
    "conversation.add_user_input(\"Any other ideas?\")\n",
    "conversation = chatbot_small90m(conversation)\n",
    "print(conversation)"
   ]
  },
  {
   "cell_type": "markdown",
   "id": "3319655b",
   "metadata": {},
   "source": [
    "# Two Commands"
   ]
  },
  {
   "cell_type": "code",
   "execution_count": null,
   "id": "2c3fd5ec",
   "metadata": {},
   "outputs": [],
   "source": [
    "user_message = \"What is your favorite restaurant?\"\n",
    "conversation = Conversation(user_message)\n",
    "conversation = chatbot_400mdistill(conversation)\n",
    "print(conversation)"
   ]
  },
  {
   "cell_type": "code",
   "execution_count": null,
   "id": "7e289913",
   "metadata": {},
   "outputs": [],
   "source": [
    "conversation.add_user_input(\"Any other ideas?\")\n",
    "conversation = chatbot_400mdistill(conversation)\n",
    "print(conversation)"
   ]
  },
  {
   "cell_type": "code",
   "execution_count": null,
   "id": "ae1029f0-8a80-42a6-bee5-f86b421f6bc0",
   "metadata": {},
   "outputs": [],
   "source": []
  }
 ],
 "metadata": {
  "kernelspec": {
   "display_name": "Python 3 (ipykernel)",
   "language": "python",
   "name": "python3"
  },
  "language_info": {
   "codemirror_mode": {
    "name": "ipython",
    "version": 3
   },
   "file_extension": ".py",
   "mimetype": "text/x-python",
   "name": "python",
   "nbconvert_exporter": "python",
   "pygments_lexer": "ipython3",
   "version": "3.11.6"
  }
 },
 "nbformat": 4,
 "nbformat_minor": 5
}
